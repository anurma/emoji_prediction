{
 "cells": [
  {
   "cell_type": "markdown",
   "metadata": {},
   "source": [
    "# Emojii embeddings"
   ]
  },
  {
   "cell_type": "code",
   "execution_count": 1,
   "metadata": {},
   "outputs": [],
   "source": [
    "#!pip install emoji"
   ]
  },
  {
   "cell_type": "code",
   "execution_count": 34,
   "metadata": {},
   "outputs": [],
   "source": [
    "import pandas as pd\n",
    "import emoji"
   ]
  },
  {
   "cell_type": "code",
   "execution_count": 35,
   "metadata": {},
   "outputs": [
    {
     "name": "stdout",
     "output_type": "stream",
     "text": [
      "(374595, 6)\n",
      "182830\n"
     ]
    }
   ],
   "source": [
    "data = pd.read_csv(\"/Users/macbook/emoji_prediction/data/full_df_twi_tg.csv\")\n",
    "print(data.shape)\n",
    "print(len(data[data.duplicated(subset=['texts', 'time', 'source']) == True]))"
   ]
  },
  {
   "cell_type": "code",
   "execution_count": 36,
   "metadata": {},
   "outputs": [
    {
     "data": {
      "text/plain": [
       "texts      object\n",
       "names      object\n",
       "time       object\n",
       "channel    object\n",
       "source     object\n",
       "emoji      object\n",
       "dtype: object"
      ]
     },
     "execution_count": 36,
     "metadata": {},
     "output_type": "execute_result"
    }
   ],
   "source": [
    "data.dtypes"
   ]
  },
  {
   "cell_type": "code",
   "execution_count": 37,
   "metadata": {},
   "outputs": [
    {
     "data": {
      "text/html": [
       "<div>\n",
       "<style scoped>\n",
       "    .dataframe tbody tr th:only-of-type {\n",
       "        vertical-align: middle;\n",
       "    }\n",
       "\n",
       "    .dataframe tbody tr th {\n",
       "        vertical-align: top;\n",
       "    }\n",
       "\n",
       "    .dataframe thead th {\n",
       "        text-align: right;\n",
       "    }\n",
       "</style>\n",
       "<table border=\"1\" class=\"dataframe\">\n",
       "  <thead>\n",
       "    <tr style=\"text-align: right;\">\n",
       "      <th></th>\n",
       "      <th>texts</th>\n",
       "      <th>names</th>\n",
       "      <th>time</th>\n",
       "      <th>channel</th>\n",
       "      <th>source</th>\n",
       "      <th>emoji</th>\n",
       "    </tr>\n",
       "  </thead>\n",
       "  <tbody>\n",
       "    <tr>\n",
       "      <th>0</th>\n",
       "      <td>😎</td>\n",
       "      <td>Mandarina</td>\n",
       "      <td>16.10.2018 10:40:46</td>\n",
       "      <td>msk24</td>\n",
       "      <td>Telegram</td>\n",
       "      <td>😎</td>\n",
       "    </tr>\n",
       "  </tbody>\n",
       "</table>\n",
       "</div>"
      ],
      "text/plain": [
       "  texts      names                 time channel    source emoji\n",
       "0     😎  Mandarina  16.10.2018 10:40:46   msk24  Telegram     😎"
      ]
     },
     "execution_count": 37,
     "metadata": {},
     "output_type": "execute_result"
    }
   ],
   "source": [
    "data.head(1)"
   ]
  },
  {
   "cell_type": "code",
   "execution_count": 38,
   "metadata": {},
   "outputs": [],
   "source": [
    "data_unique = data.drop_duplicates(subset=['texts', 'time', 'source'], keep='first')"
   ]
  },
  {
   "cell_type": "code",
   "execution_count": 39,
   "metadata": {},
   "outputs": [
    {
     "data": {
      "text/plain": [
       "(191765, 6)"
      ]
     },
     "execution_count": 39,
     "metadata": {},
     "output_type": "execute_result"
    }
   ],
   "source": [
    "data_unique.shape"
   ]
  },
  {
   "cell_type": "code",
   "execution_count": 40,
   "metadata": {},
   "outputs": [],
   "source": [
    "# unique emojis unicode\n",
    "emojis = list(emoji.UNICODE_EMOJI.keys())\n",
    "#emojis = [str(e) for e in emojis]\n",
    "unicodes = [e.encode('unicode-escape').decode(\"utf-8\")  for e in emojis]"
   ]
  },
  {
   "cell_type": "code",
   "execution_count": 41,
   "metadata": {},
   "outputs": [
    {
     "data": {
      "text/plain": [
       "2623"
      ]
     },
     "execution_count": 41,
     "metadata": {},
     "output_type": "execute_result"
    }
   ],
   "source": [
    "len(emojis)"
   ]
  },
  {
   "cell_type": "code",
   "execution_count": 42,
   "metadata": {},
   "outputs": [],
   "source": [
    "# preprocessing texts: stemming, Username|URL standartization, decoding emojis to utf\n",
    "import re\n",
    "from pymystem3 import Mystem\n",
    "from nltk.tokenize import word_tokenize\n",
    "\n",
    "def getCleanData(df):\n",
    "    \n",
    "    df['texts'] = df['texts']\\\n",
    "    .apply(\n",
    "        lambda x: re.sub(r\"(?<=^|(?<=[^a-zA-Z0-9-_\\.]))@([A-Za-z]+[A-Za-z0-9-_]+)\", \n",
    "                         \"@username\", x)\n",
    "    )\\\n",
    "    .apply(\n",
    "        lambda x: re.sub(r\"([0-9]{1,3}\\\\.[0-9]{1,3}\\\\.[0-9]{1,3}\\\\.[0-9]{1,3}|((news|telnet|nttp|file|http|ftp|https)://)|(www|ftp)[-A-Za-z0-9]*\\\\.)[-A-Za-z0-9\\\\.]+(:[0-9]*)?/[-A-Za-z0-9_\\\\$\\\\.\\\\+\\\\!\\\\*\\\\(\\\\),;:@&=\\\\?/~\\\\#\\\\%]*[^]'\\\\.}>\\\\),\\\\\\\"]\", \n",
    "                         \"URL\", x)\n",
    "    )\\\n",
    "    .str.replace(\"\\n\", \" \")\\\n",
    "    .str.replace(\"RT @username\", \"\")\n",
    "    return df\n",
    "\n",
    "def tokenizeData(df):\n",
    "    m = Mystem()\n",
    "#     emojis = list(emoji.UNICODE_EMOJI.keys())\n",
    "#     df['texts'] = [t.replace(e, f\" {str(e)} \") if e in t and type(t) == str else t \n",
    "#                      for t in df['texts'] for e in emojis]\n",
    "    \n",
    "    tokenized_texts = df['texts'].apply(lambda x: m.lemmatize(x))\n",
    "    df['texts'] = df['texts'].apply(lambda x: \" \".join(m.lemmatize(x)))\n",
    "    df['texts'] = df['texts'].apply(lambda x: re.sub('\\s+', ' ', x).strip())\n",
    "    return df, tokenized_texts\n"
   ]
  },
  {
   "cell_type": "code",
   "execution_count": 43,
   "metadata": {},
   "outputs": [
    {
     "name": "stdout",
     "output_type": "stream",
     "text": [
      "(191765, 6)\n",
      "CPU times: user 2.15 s, sys: 32.8 ms, total: 2.18 s\n",
      "Wall time: 2.22 s\n"
     ]
    },
    {
     "name": "stderr",
     "output_type": "stream",
     "text": [
      "/Users/macbook/.pyenv/versions/3.6.7/envs/venv367/lib/python3.6/site-packages/ipykernel_launcher.py:18: SettingWithCopyWarning: \n",
      "A value is trying to be set on a copy of a slice from a DataFrame.\n",
      "Try using .loc[row_indexer,col_indexer] = value instead\n",
      "\n",
      "See the caveats in the documentation: http://pandas.pydata.org/pandas-docs/stable/indexing.html#indexing-view-versus-copy\n"
     ]
    }
   ],
   "source": [
    "%%time\n",
    "data_clean = getCleanData(data_unique)\n",
    "print(data_clean.shape)"
   ]
  },
  {
   "cell_type": "code",
   "execution_count": 44,
   "metadata": {},
   "outputs": [
    {
     "name": "stderr",
     "output_type": "stream",
     "text": [
      "/Users/macbook/.pyenv/versions/3.6.7/envs/venv367/lib/python3.6/site-packages/ipykernel_launcher.py:28: SettingWithCopyWarning: \n",
      "A value is trying to be set on a copy of a slice from a DataFrame.\n",
      "Try using .loc[row_indexer,col_indexer] = value instead\n",
      "\n",
      "See the caveats in the documentation: http://pandas.pydata.org/pandas-docs/stable/indexing.html#indexing-view-versus-copy\n"
     ]
    },
    {
     "name": "stdout",
     "output_type": "stream",
     "text": [
      "CPU times: user 33.8 s, sys: 5.74 s, total: 39.5 s\n",
      "Wall time: 3min 21s\n"
     ]
    },
    {
     "name": "stderr",
     "output_type": "stream",
     "text": [
      "/Users/macbook/.pyenv/versions/3.6.7/envs/venv367/lib/python3.6/site-packages/ipykernel_launcher.py:29: SettingWithCopyWarning: \n",
      "A value is trying to be set on a copy of a slice from a DataFrame.\n",
      "Try using .loc[row_indexer,col_indexer] = value instead\n",
      "\n",
      "See the caveats in the documentation: http://pandas.pydata.org/pandas-docs/stable/indexing.html#indexing-view-versus-copy\n"
     ]
    }
   ],
   "source": [
    "%%time\n",
    "data_clean, tokenized_texts = tokenizeData(data_clean)"
   ]
  },
  {
   "cell_type": "code",
   "execution_count": 45,
   "metadata": {},
   "outputs": [],
   "source": [
    "texts = data_clean['texts'].tolist()"
   ]
  },
  {
   "cell_type": "code",
   "execution_count": 46,
   "metadata": {},
   "outputs": [
    {
     "data": {
      "text/plain": [
       "['ахахах я сегодня гарь хотеть пересматривать весь 😁 ждать сториза в инстаграмма',\n",
       " 'хорошо 😂 я хз что это но должно быть интересно )',\n",
       " 'гари потер ну 😁',\n",
       " 'да , я понимать ) пересматривать 😂 я давно не смотреть .. чуять , проигрывать мы 😂',\n",
       " '😂 😂 😂',\n",
       " 'надо быть в скорый время сходить в барчик 😏',\n",
       " 'ниховать весь шарить 😂',\n",
       " 'у я с ты фотка в вк стоять , все я задавать вопрос это што твой паринь 🤣 🤣 🤣 🤣 🤣',\n",
       " '🤔 какой интересный интерпретация',\n",
       " '😉']"
      ]
     },
     "execution_count": 46,
     "metadata": {},
     "output_type": "execute_result"
    }
   ],
   "source": [
    "texts[900:910]"
   ]
  },
  {
   "cell_type": "markdown",
   "metadata": {},
   "source": [
    "## Word2Vec: CBOW"
   ]
  },
  {
   "cell_type": "code",
   "execution_count": 64,
   "metadata": {},
   "outputs": [],
   "source": [
    "from gensim.test.utils import common_texts, get_tmpfile\n",
    "from gensim.models import Word2Vec\n",
    "\n",
    "model_CBOW = Word2Vec(texts, size=300, window=3, min_count=4, workers=4)"
   ]
  },
  {
   "cell_type": "code",
   "execution_count": 65,
   "metadata": {},
   "outputs": [
    {
     "data": {
      "text/plain": [
       "8335686"
      ]
     },
     "execution_count": 65,
     "metadata": {},
     "output_type": "execute_result"
    }
   ],
   "source": [
    "model_CBOW.corpus_total_words"
   ]
  },
  {
   "cell_type": "code",
   "execution_count": 67,
   "metadata": {},
   "outputs": [
    {
     "data": {
      "text/plain": [
       "[('\\U0001f970', 0.6127868890762329),\n",
       " ('🤗', 0.6075960397720337),\n",
       " ('😗', 0.606320321559906),\n",
       " ('😙', 0.6052931547164917),\n",
       " ('😍', 0.5938857197761536),\n",
       " ('💛', 0.5561263561248779),\n",
       " ('☻', 0.5271309018135071),\n",
       " ('💐', 0.52568119764328),\n",
       " ('😽', 0.5247597694396973),\n",
       " ('😇', 0.5199021100997925)]"
      ]
     },
     "execution_count": 67,
     "metadata": {},
     "output_type": "execute_result"
    }
   ],
   "source": [
    "model_CBOW.wv.most_similar('😘', topn=10)"
   ]
  },
  {
   "cell_type": "code",
   "execution_count": 68,
   "metadata": {},
   "outputs": [],
   "source": [
    "model_CBOW.save(\"./models/word2vec_CBOW_new.model\")"
   ]
  },
  {
   "cell_type": "code",
   "execution_count": 69,
   "metadata": {},
   "outputs": [
    {
     "name": "stdout",
     "output_type": "stream",
     "text": [
      "3062549\n",
      "[('❤️\\n', 0.7106764316558838), ('солнышко', 0.70790034532547), ('малышка', 0.6667879819869995), ('целовать', 0.6664431691169739), ('обнимать', 0.6572937965393066), ('систр', 0.655383288860321), ('💖', 0.6431198120117188), ('подтянутый', 0.6424639821052551), ('приветик', 0.639851987361908), ('😽', 0.638516902923584)]\n"
     ]
    }
   ],
   "source": [
    "model_CBOW_token = Word2Vec(tokenized_texts, size=300, window=5, min_count=4, workers=4)\n",
    "print(model_CBOW_token.corpus_total_words)\n",
    "print(model_CBOW_token.wv.most_similar('😘'))"
   ]
  },
  {
   "cell_type": "code",
   "execution_count": 70,
   "metadata": {},
   "outputs": [],
   "source": [
    "similars = [{e: model_CBOW.wv.most_similar(e)} for e in emojis if e in model_CBOW.wv.vocab]"
   ]
  },
  {
   "cell_type": "code",
   "execution_count": 71,
   "metadata": {},
   "outputs": [],
   "source": [
    "import json\n",
    "with open('./similar_emojis_w2v_CBOW_new.json', 'w') as outfile:\n",
    "    json.dump(similars, outfile)\n",
    "    outfile.close()"
   ]
  },
  {
   "cell_type": "code",
   "execution_count": null,
   "metadata": {},
   "outputs": [],
   "source": []
  },
  {
   "cell_type": "markdown",
   "metadata": {},
   "source": [
    "## Word2Vec: Skip-gram"
   ]
  },
  {
   "cell_type": "code",
   "execution_count": 72,
   "metadata": {},
   "outputs": [],
   "source": [
    "from gensim.test.utils import common_texts, get_tmpfile\n",
    "from gensim.models import Word2Vec\n",
    "\n",
    "model_skip = Word2Vec(texts, size=300, window=5, min_count=4, workers=4, sg=1)"
   ]
  },
  {
   "cell_type": "code",
   "execution_count": 73,
   "metadata": {},
   "outputs": [
    {
     "data": {
      "text/plain": [
       "8335686"
      ]
     },
     "execution_count": 73,
     "metadata": {},
     "output_type": "execute_result"
    }
   ],
   "source": [
    "model_skip.corpus_total_words"
   ]
  },
  {
   "cell_type": "code",
   "execution_count": 74,
   "metadata": {},
   "outputs": [
    {
     "data": {
      "text/plain": [
       "[('🤗', 0.5284894704818726),\n",
       " ('💘', 0.5272725820541382),\n",
       " ('🍁', 0.5231646299362183),\n",
       " ('😙', 0.5160070657730103),\n",
       " ('🌠', 0.505496621131897),\n",
       " ('💋', 0.493554949760437),\n",
       " ('😗', 0.48782065510749817),\n",
       " ('🙌', 0.48606058955192566),\n",
       " ('😚', 0.4839693307876587),\n",
       " ('😍', 0.479634165763855)]"
      ]
     },
     "execution_count": 74,
     "metadata": {},
     "output_type": "execute_result"
    }
   ],
   "source": [
    "model_skip.wv.most_similar('😘')"
   ]
  },
  {
   "cell_type": "code",
   "execution_count": 75,
   "metadata": {},
   "outputs": [],
   "source": [
    "model_skip.save(\"./models/word2vec_SkipGram_new.model\")"
   ]
  },
  {
   "cell_type": "code",
   "execution_count": 76,
   "metadata": {},
   "outputs": [],
   "source": [
    "similars_skip = [{e: model_skip.wv.most_similar(e)} for e in emojis if e in model_skip.wv.vocab]"
   ]
  },
  {
   "cell_type": "code",
   "execution_count": 77,
   "metadata": {},
   "outputs": [],
   "source": [
    "for e in range(0,len(similars_skip)):\n",
    "    e_similar = []\n",
    "    index = list(similars_skip[e].keys())[0]\n",
    "    for i in similars_skip[e][index]:\n",
    "        if i[0] in emojis:\n",
    "            e_similar.append(i)\n",
    "\n",
    "    similars_skip.append({index: e_similar})"
   ]
  },
  {
   "cell_type": "code",
   "execution_count": 78,
   "metadata": {},
   "outputs": [],
   "source": [
    "import json\n",
    "with open('./similar_emojis_w2v_SkipGram_new.json', 'w') as outfile:\n",
    "    json.dump(similars_skip, outfile)\n",
    "    outfile.close()"
   ]
  },
  {
   "cell_type": "code",
   "execution_count": null,
   "metadata": {},
   "outputs": [],
   "source": []
  },
  {
   "cell_type": "markdown",
   "metadata": {},
   "source": [
    "## Visualizing embeddings in 2d: TSNE"
   ]
  },
  {
   "cell_type": "code",
   "execution_count": 145,
   "metadata": {},
   "outputs": [],
   "source": [
    "import pandas as pd\n",
    "pd.options.mode.chained_assignment = None \n",
    "import numpy as np\n",
    "import re\n",
    "import nltk\n",
    "from matplotlib.font_manager import FontProperties\n",
    "from matplotlib import rcParams\n",
    "rcParams['font.family'] = ['Apple Color Emoji']\n",
    "\n",
    "\n",
    "from pylab import *\n",
    "\n",
    "from gensim.models import word2vec\n",
    "\n",
    "from sklearn.manifold import TSNE\n",
    "import matplotlib.pyplot as plt\n",
    "%matplotlib inline\n",
    "\n",
    "def tsne_plot(model):\n",
    "    \"Creates and TSNE model and plots it\"\n",
    "    labels = [e for e in tsne_emojis['index'].tolist() if e in model.wv.vocab]\n",
    "    tokens = [model.wv[e] for e in tsne_emojis['index'].tolist() if e in model.wv.vocab]\n",
    "\n",
    "    tsne_model = TSNE(perplexity=40, n_components=2, init='pca', n_iter=2500, random_state=23)\n",
    "    new_values = tsne_model.fit_transform(tokens)\n",
    "\n",
    "    x = []\n",
    "    y = []\n",
    "    for value in new_values:\n",
    "        x.append(value[0])\n",
    "        y.append(value[1])\n",
    "        \n",
    "    plt.figure(figsize=(16, 16)) \n",
    "    for i in range(len(x)):\n",
    "        plt.scatter(x[i],y[i])\n",
    "        plt.annotate(labels[i],\n",
    "                     xy=(x[i], y[i]),\n",
    "                     xytext=(5, 2),\n",
    "                     textcoords='offset points',\n",
    "                     ha='right',\n",
    "                     va='bottom')\n",
    "    plt.show()"
   ]
  },
  {
   "cell_type": "code",
   "execution_count": 146,
   "metadata": {},
   "outputs": [
    {
     "name": "stderr",
     "output_type": "stream",
     "text": [
      "/Users/macbook/.pyenv/versions/3.6.7/envs/venv367/lib/python3.6/site-packages/matplotlib/font_manager.py:1241: UserWarning: findfont: Font family ['Apple Color Emoji'] not found. Falling back to DejaVu Sans.\n",
      "  (prop.get_family(), self.defaultFamily[fontext]))\n"
     ]
    },
    {
     "data": {
      "image/png": "[encoded data removed]",
      "text/plain": [
       "<Figure size 1152x1152 with 1 Axes>"
      ]
     },
     "metadata": {
      "needs_background": "light"
     },
     "output_type": "display_data"
    }
   ],
   "source": [
    "tsne_plot(model_CBOW)"
   ]
  },
  {
   "cell_type": "markdown",
   "metadata": {},
   "source": [
    "## Clustering emojis: KMeans, Affinity propagation, DBSCAN\n",
    "\n",
    "### Spoiler: KMeans wins"
   ]
  },
  {
   "cell_type": "code",
   "execution_count": 92,
   "metadata": {},
   "outputs": [],
   "source": [
    "emojis_found = [e for e in emojis if e in model_CBOW.wv.vocab]"
   ]
  },
  {
   "cell_type": "code",
   "execution_count": 93,
   "metadata": {},
   "outputs": [],
   "source": [
    "X = [model_CBOW.wv[e] for e in emojis if e in model_CBOW.wv.vocab]"
   ]
  },
  {
   "cell_type": "code",
   "execution_count": 94,
   "metadata": {},
   "outputs": [
    {
     "data": {
      "text/plain": [
       "813"
      ]
     },
     "execution_count": 94,
     "metadata": {},
     "output_type": "execute_result"
    }
   ],
   "source": [
    "len(X)"
   ]
  },
  {
   "cell_type": "code",
   "execution_count": 95,
   "metadata": {},
   "outputs": [
    {
     "name": "stdout",
     "output_type": "stream",
     "text": [
      "For n_clusters=2, The Silhouette Coefficient is 0.4866989552974701\n",
      "For n_clusters=3, The Silhouette Coefficient is 0.4839714765548706\n",
      "For n_clusters=4, The Silhouette Coefficient is 0.4708152413368225\n",
      "For n_clusters=5, The Silhouette Coefficient is 0.47529521584510803\n",
      "For n_clusters=6, The Silhouette Coefficient is 0.4292636215686798\n",
      "For n_clusters=7, The Silhouette Coefficient is 0.4325534403324127\n",
      "For n_clusters=8, The Silhouette Coefficient is 0.45732012391090393\n",
      "For n_clusters=9, The Silhouette Coefficient is 0.3942079544067383\n",
      "For n_clusters=10, The Silhouette Coefficient is 0.31672343611717224\n",
      "For n_clusters=11, The Silhouette Coefficient is 0.28238755464553833\n",
      "For n_clusters=12, The Silhouette Coefficient is 0.3446815311908722\n",
      "For n_clusters=13, The Silhouette Coefficient is 0.4254491627216339\n",
      "For n_clusters=14, The Silhouette Coefficient is 0.4218636751174927\n",
      "For n_clusters=15, The Silhouette Coefficient is 0.20952802896499634\n",
      "For n_clusters=16, The Silhouette Coefficient is 0.3127892017364502\n",
      "For n_clusters=17, The Silhouette Coefficient is 0.24199910461902618\n",
      "For n_clusters=18, The Silhouette Coefficient is 0.2286062091588974\n"
     ]
    }
   ],
   "source": [
    "from sklearn.metrics import silhouette_score\n",
    "from sklearn.datasets import load_iris\n",
    "from sklearn.cluster import KMeans\n",
    "\n",
    "for n_cluster in range(2, 19):\n",
    "    kmeans = KMeans(n_clusters=n_cluster).fit(X)\n",
    "    label = kmeans.labels_\n",
    "    sil_coeff = silhouette_score(X, label, metric='euclidean')\n",
    "    print(\"For n_clusters={}, The Silhouette Coefficient is {}\".format(n_cluster, sil_coeff))"
   ]
  },
  {
   "cell_type": "code",
   "execution_count": 140,
   "metadata": {},
   "outputs": [],
   "source": [
    "from sklearn.cluster import KMeans\n",
    "import numpy as np\n",
    "\n",
    "k_means = KMeans(n_clusters=14, random_state=1)\n",
    "k_means.fit(X)\n",
    "k_means_labels = k_means.labels_ # array with cluster of emojis (concat to df)\n",
    "\n",
    "\n",
    "k_means_labels_unique = np.unique(k_means_labels)\n",
    "k_means_cluster_centers = k_means.cluster_centers_"
   ]
  },
  {
   "cell_type": "code",
   "execution_count": 141,
   "metadata": {},
   "outputs": [],
   "source": [
    "emo_clusters = pd.DataFrame(k_means_labels, index=emojis_found, columns=['cluster_group']).reset_index()"
   ]
  },
  {
   "cell_type": "code",
   "execution_count": 142,
   "metadata": {},
   "outputs": [
    {
     "data": {
      "text/html": [
       "<div>\n",
       "<style scoped>\n",
       "    .dataframe tbody tr th:only-of-type {\n",
       "        vertical-align: middle;\n",
       "    }\n",
       "\n",
       "    .dataframe tbody tr th {\n",
       "        vertical-align: top;\n",
       "    }\n",
       "\n",
       "    .dataframe thead th {\n",
       "        text-align: right;\n",
       "    }\n",
       "</style>\n",
       "<table border=\"1\" class=\"dataframe\">\n",
       "  <thead>\n",
       "    <tr style=\"text-align: right;\">\n",
       "      <th></th>\n",
       "      <th>index</th>\n",
       "    </tr>\n",
       "    <tr>\n",
       "      <th>cluster_group</th>\n",
       "      <th></th>\n",
       "    </tr>\n",
       "  </thead>\n",
       "  <tbody>\n",
       "    <tr>\n",
       "      <th>0</th>\n",
       "      <td>5</td>\n",
       "    </tr>\n",
       "    <tr>\n",
       "      <th>1</th>\n",
       "      <td>567</td>\n",
       "    </tr>\n",
       "    <tr>\n",
       "      <th>2</th>\n",
       "      <td>30</td>\n",
       "    </tr>\n",
       "    <tr>\n",
       "      <th>3</th>\n",
       "      <td>34</td>\n",
       "    </tr>\n",
       "    <tr>\n",
       "      <th>4</th>\n",
       "      <td>2</td>\n",
       "    </tr>\n",
       "    <tr>\n",
       "      <th>5</th>\n",
       "      <td>31</td>\n",
       "    </tr>\n",
       "    <tr>\n",
       "      <th>6</th>\n",
       "      <td>38</td>\n",
       "    </tr>\n",
       "    <tr>\n",
       "      <th>7</th>\n",
       "      <td>2</td>\n",
       "    </tr>\n",
       "    <tr>\n",
       "      <th>8</th>\n",
       "      <td>34</td>\n",
       "    </tr>\n",
       "    <tr>\n",
       "      <th>9</th>\n",
       "      <td>19</td>\n",
       "    </tr>\n",
       "    <tr>\n",
       "      <th>10</th>\n",
       "      <td>26</td>\n",
       "    </tr>\n",
       "    <tr>\n",
       "      <th>11</th>\n",
       "      <td>14</td>\n",
       "    </tr>\n",
       "    <tr>\n",
       "      <th>12</th>\n",
       "      <td>5</td>\n",
       "    </tr>\n",
       "    <tr>\n",
       "      <th>13</th>\n",
       "      <td>6</td>\n",
       "    </tr>\n",
       "  </tbody>\n",
       "</table>\n",
       "</div>"
      ],
      "text/plain": [
       "               index\n",
       "cluster_group       \n",
       "0                  5\n",
       "1                567\n",
       "2                 30\n",
       "3                 34\n",
       "4                  2\n",
       "5                 31\n",
       "6                 38\n",
       "7                  2\n",
       "8                 34\n",
       "9                 19\n",
       "10                26\n",
       "11                14\n",
       "12                 5\n",
       "13                 6"
      ]
     },
     "execution_count": 142,
     "metadata": {},
     "output_type": "execute_result"
    }
   ],
   "source": [
    "emo_clusters.groupby('cluster_group').agg('count')"
   ]
  },
  {
   "cell_type": "code",
   "execution_count": 143,
   "metadata": {},
   "outputs": [],
   "source": [
    "tsne_emojis = emo_clusters[(emo_clusters.cluster_group != 1)]"
   ]
  },
  {
   "cell_type": "code",
   "execution_count": 139,
   "metadata": {},
   "outputs": [
    {
     "data": {
      "text/html": [
       "<div>\n",
       "<style scoped>\n",
       "    .dataframe tbody tr th:only-of-type {\n",
       "        vertical-align: middle;\n",
       "    }\n",
       "\n",
       "    .dataframe tbody tr th {\n",
       "        vertical-align: top;\n",
       "    }\n",
       "\n",
       "    .dataframe thead th {\n",
       "        text-align: right;\n",
       "    }\n",
       "</style>\n",
       "<table border=\"1\" class=\"dataframe\">\n",
       "  <thead>\n",
       "    <tr style=\"text-align: right;\">\n",
       "      <th></th>\n",
       "      <th>index</th>\n",
       "      <th>cluster_group</th>\n",
       "    </tr>\n",
       "  </thead>\n",
       "  <tbody>\n",
       "  </tbody>\n",
       "</table>\n",
       "</div>"
      ],
      "text/plain": [
       "Empty DataFrame\n",
       "Columns: [index, cluster_group]\n",
       "Index: []"
      ]
     },
     "execution_count": 139,
     "metadata": {},
     "output_type": "execute_result"
    }
   ],
   "source": [
    "emo_clusters[emo_clusters.cluster_group == 15]"
   ]
  },
  {
   "cell_type": "code",
   "execution_count": 147,
   "metadata": {},
   "outputs": [],
   "source": [
    "emo_clusters.to_csv(\"./emo_clusters14.csv\", index=False)"
   ]
  },
  {
   "cell_type": "markdown",
   "metadata": {},
   "source": [
    "### Affinity propagation"
   ]
  },
  {
   "cell_type": "code",
   "execution_count": 156,
   "metadata": {},
   "outputs": [],
   "source": [
    "clust_1 = emo_clusters['index'][emo_clusters.cluster_group == 1].tolist()\n",
    "\n",
    "clust_1_embed = {}\n",
    "for e in clust_1:\n",
    "    if e in model_CBOW.wv.vocab:\n",
    "        clust_1_embed[e] = model_CBOW.wv[e]\n",
    "        \n",
    "X_clust_1 = list(clust_1_embed.values())"
   ]
  },
  {
   "cell_type": "code",
   "execution_count": 158,
   "metadata": {},
   "outputs": [
    {
     "name": "stdout",
     "output_type": "stream",
     "text": [
      "Mean silhouette score for Affinity propagation: 0.059873402\n"
     ]
    }
   ],
   "source": [
    "from sklearn.cluster import AffinityPropagation\n",
    "\n",
    "aff = AffinityPropagation(damping=0.9, max_iter=200, convergence_iter=15, copy=True, \n",
    "                                    preference=None, affinity=\"euclidean\", verbose=False)\n",
    "aff_matr = aff.fit_predict(X_clust_1)\n",
    "affinity_labels = aff.labels_\n",
    "\n",
    "from sklearn.metrics import silhouette_score\n",
    "mean_sil_aff = silhouette_score(X_clust_1, affinity_labels)\n",
    "\n",
    "print(\"Mean silhouette score for Affinity propagation: \" + str(mean_sil_aff))"
   ]
  },
  {
   "cell_type": "code",
   "execution_count": null,
   "metadata": {},
   "outputs": [],
   "source": []
  },
  {
   "cell_type": "markdown",
   "metadata": {},
   "source": [
    "### DBSCAN"
   ]
  },
  {
   "cell_type": "code",
   "execution_count": 159,
   "metadata": {},
   "outputs": [
    {
     "name": "stdout",
     "output_type": "stream",
     "text": [
      "Estimated number of clusters: 1\n",
      "Estimated number of noise points: 442\n"
     ]
    }
   ],
   "source": [
    "import numpy as np\n",
    "\n",
    "from sklearn.cluster import DBSCAN\n",
    "from sklearn import metrics\n",
    "from sklearn.datasets.samples_generator import make_blobs\n",
    "\n",
    "db = DBSCAN(eps=0.3, min_samples=10).fit(X_clust_1)\n",
    "core_samples_mask = np.zeros_like(db.labels_, dtype=bool)\n",
    "core_samples_mask[db.core_sample_indices_] = True\n",
    "labels = db.labels_\n",
    "\n",
    "# Number of clusters in labels, ignoring noise if present.\n",
    "n_clusters_ = len(set(labels)) - (1 if -1 in labels else 0)\n",
    "n_noise_ = list(labels).count(-1)\n",
    "\n",
    "print('Estimated number of clusters: %d' % n_clusters_)\n",
    "print('Estimated number of noise points: %d' % n_noise_)"
   ]
  },
  {
   "cell_type": "code",
   "execution_count": null,
   "metadata": {},
   "outputs": [],
   "source": []
  }
 ],
 "metadata": {
  "kernelspec": {
   "display_name": "Python 3",
   "language": "python",
   "name": "python3"
  },
  "language_info": {
   "codemirror_mode": {
    "name": "ipython",
    "version": 3
   },
   "file_extension": ".py",
   "mimetype": "text/x-python",
   "name": "python",
   "nbconvert_exporter": "python",
   "pygments_lexer": "ipython3",
   "version": "3.6.7"
  }
 },
 "nbformat": 4,
 "nbformat_minor": 2
}
